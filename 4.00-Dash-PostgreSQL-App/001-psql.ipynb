{
 "cells": [
  {
   "cell_type": "code",
   "execution_count": 56,
   "id": "ad834ef4",
   "metadata": {},
   "outputs": [],
   "source": [
    "import psycopg2\n",
    "import pandas as pd\n",
    "import psycopg2.extras"
   ]
  },
  {
   "cell_type": "code",
   "execution_count": 2,
   "id": "04d115ce",
   "metadata": {},
   "outputs": [],
   "source": [
    "hostname = 'localhost'\n",
    "database = 'postgres'\n",
    "username = 'postgres'\n",
    "pwd = '147512'\n",
    "port_id = '5432'"
   ]
  },
  {
   "cell_type": "code",
   "execution_count": 4,
   "id": "3c156004",
   "metadata": {},
   "outputs": [],
   "source": [
    "conn = psycopg2.connect( host= hostname, dbname= database, user= username,\n",
    "                       password= pwd, port= port_id )"
   ]
  },
  {
   "cell_type": "code",
   "execution_count": 57,
   "id": "fb265ebc",
   "metadata": {},
   "outputs": [],
   "source": [
    "cur = conn.cursor(cursor_factory = psycopg2.extras.DictCursor)"
   ]
  },
  {
   "cell_type": "markdown",
   "id": "f48876f7",
   "metadata": {},
   "source": [
    "## Create Table"
   ]
  },
  {
   "cell_type": "markdown",
   "id": "cf125fd9",
   "metadata": {},
   "source": [
    "create_script = '''\n",
    "    CREATE TABLE IF NOT EXISTS tableName (\n",
    "    id int PRIMARY KEY,\n",
    "    name varchar(40) NOT NULL,\n",
    "    salary int,\n",
    "    dept_id varchar(30)\n",
    "    )\n",
    "\n",
    "'''"
   ]
  },
  {
   "cell_type": "markdown",
   "id": "1a637c5b",
   "metadata": {},
   "source": [
    "cur.execute(create_script)"
   ]
  },
  {
   "cell_type": "markdown",
   "id": "79165d5d",
   "metadata": {},
   "source": [
    "## Insert Data"
   ]
  },
  {
   "cell_type": "markdown",
   "id": "f5e31be2",
   "metadata": {},
   "source": [
    "insert_script = ' INSERT INTO employee (id, name, salary, dept_id) VALUES (%s, %s, %s, %s)'\n",
    "insert_value = (1, 'James', 12000, 'D1')\n",
    "\n",
    "cur.execute(insert_script, insert_value)"
   ]
  },
  {
   "cell_type": "code",
   "execution_count": 28,
   "id": "74134c5c",
   "metadata": {},
   "outputs": [],
   "source": [
    "select_first_5 = ' SELECT * FROM employee LIMIT 5; '"
   ]
  },
  {
   "cell_type": "code",
   "execution_count": 61,
   "id": "3d0996ff",
   "metadata": {
    "scrolled": true
   },
   "outputs": [
    {
     "name": "stdout",
     "output_type": "stream",
     "text": [
      "Angel Swift\n",
      "Rosemary Abbot\n",
      "Joseph Marshall\n",
      "Karla Clarke\n",
      "Carter Judd\n",
      "Adalie Rivers\n",
      "Lexi Parker\n",
      "Nick Hopkins\n",
      "Mona Robinson\n",
      "Barney James\n",
      "Marina Ingham\n",
      "Boris Neal\n",
      "Cassidy Jackson\n",
      "Harmony Daniells\n",
      "Quinn Morrison\n",
      "Erick Milner\n",
      "Johnathan Ellery\n",
      "Rita Brown\n",
      "Maria Vallins\n",
      "Leslie Mcgregor\n",
      "Estrella Mackenzie\n",
      "Moira Eyres\n",
      "Rita Devonport\n",
      "Lynn Watt\n",
      "Melody Roberts\n",
      "Ada Garner\n",
      "Aurelia Addison\n",
      "Lexi Bristow\n",
      "Elise Poole\n",
      "Jack Weston\n",
      "Russel Vaughn\n",
      "Valentina Gates\n",
      "Manuel Allcott\n",
      "Valentina Cork\n",
      "Freya Roberts\n",
      "Holly Quinn\n",
      "Jennifer Hooper\n",
      "Brooklyn Williams\n",
      "Savannah Stanley\n",
      "Bristol Dyson\n",
      "Barry Truscott\n",
      "Nicholas Stewart\n",
      "Madison Pearce\n",
      "Wendy Martin\n",
      "Emery Nicolas\n",
      "Cedrick Redwood\n",
      "Rocco Grant\n",
      "Kassandra Larkin\n",
      "Michael Gavin\n",
      "Michael Glass\n"
     ]
    },
    {
     "data": {
      "text/html": [
       "<div>\n",
       "<style scoped>\n",
       "    .dataframe tbody tr th:only-of-type {\n",
       "        vertical-align: middle;\n",
       "    }\n",
       "\n",
       "    .dataframe tbody tr th {\n",
       "        vertical-align: top;\n",
       "    }\n",
       "\n",
       "    .dataframe thead th {\n",
       "        text-align: right;\n",
       "    }\n",
       "</style>\n",
       "<table border=\"1\" class=\"dataframe\">\n",
       "  <thead>\n",
       "    <tr style=\"text-align: right;\">\n",
       "      <th></th>\n",
       "    </tr>\n",
       "  </thead>\n",
       "  <tbody>\n",
       "  </tbody>\n",
       "</table>\n",
       "</div>"
      ],
      "text/plain": [
       "Empty DataFrame\n",
       "Columns: []\n",
       "Index: []"
      ]
     },
     "execution_count": 61,
     "metadata": {},
     "output_type": "execute_result"
    }
   ],
   "source": [
    "cur.execute(' select * from employee limit 50 ')\n",
    "\n",
    "for record in cur.fetchall():\n",
    "    print(record['first_last_name'])"
   ]
  },
  {
   "cell_type": "code",
   "execution_count": 59,
   "id": "381fbe4e",
   "metadata": {},
   "outputs": [],
   "source": []
  },
  {
   "cell_type": "code",
   "execution_count": null,
   "id": "f75ed870",
   "metadata": {},
   "outputs": [],
   "source": []
  },
  {
   "cell_type": "code",
   "execution_count": null,
   "id": "a5111809",
   "metadata": {},
   "outputs": [],
   "source": []
  },
  {
   "cell_type": "code",
   "execution_count": null,
   "id": "e6f4e1c2",
   "metadata": {},
   "outputs": [],
   "source": []
  },
  {
   "cell_type": "code",
   "execution_count": null,
   "id": "1c29fc70",
   "metadata": {},
   "outputs": [],
   "source": []
  },
  {
   "cell_type": "code",
   "execution_count": null,
   "id": "cd6fb45a",
   "metadata": {},
   "outputs": [],
   "source": []
  },
  {
   "cell_type": "code",
   "execution_count": null,
   "id": "6c8b2cd4",
   "metadata": {},
   "outputs": [],
   "source": []
  },
  {
   "cell_type": "code",
   "execution_count": null,
   "id": "5834de43",
   "metadata": {},
   "outputs": [],
   "source": []
  },
  {
   "cell_type": "code",
   "execution_count": null,
   "id": "45641e56",
   "metadata": {},
   "outputs": [],
   "source": []
  },
  {
   "cell_type": "code",
   "execution_count": null,
   "id": "53a32223",
   "metadata": {},
   "outputs": [],
   "source": []
  },
  {
   "cell_type": "code",
   "execution_count": null,
   "id": "bc1a965b",
   "metadata": {},
   "outputs": [],
   "source": []
  },
  {
   "cell_type": "code",
   "execution_count": null,
   "id": "dec1c074",
   "metadata": {},
   "outputs": [],
   "source": []
  },
  {
   "cell_type": "code",
   "execution_count": null,
   "id": "00d8c33e",
   "metadata": {},
   "outputs": [],
   "source": []
  },
  {
   "cell_type": "code",
   "execution_count": null,
   "id": "db2be14f",
   "metadata": {},
   "outputs": [],
   "source": []
  },
  {
   "cell_type": "code",
   "execution_count": null,
   "id": "e29617db",
   "metadata": {},
   "outputs": [],
   "source": []
  },
  {
   "cell_type": "code",
   "execution_count": null,
   "id": "fe8fab87",
   "metadata": {},
   "outputs": [],
   "source": []
  },
  {
   "cell_type": "code",
   "execution_count": null,
   "id": "5becbcec",
   "metadata": {},
   "outputs": [],
   "source": []
  },
  {
   "cell_type": "code",
   "execution_count": null,
   "id": "9df1c3b5",
   "metadata": {},
   "outputs": [],
   "source": []
  },
  {
   "cell_type": "code",
   "execution_count": null,
   "id": "145b6d9b",
   "metadata": {},
   "outputs": [],
   "source": []
  },
  {
   "cell_type": "code",
   "execution_count": null,
   "id": "4ee68e1c",
   "metadata": {},
   "outputs": [],
   "source": []
  }
 ],
 "metadata": {
  "kernelspec": {
   "display_name": "Python 3 (ipykernel)",
   "language": "python",
   "name": "python3"
  },
  "language_info": {
   "codemirror_mode": {
    "name": "ipython",
    "version": 3
   },
   "file_extension": ".py",
   "mimetype": "text/x-python",
   "name": "python",
   "nbconvert_exporter": "python",
   "pygments_lexer": "ipython3",
   "version": "3.10.4"
  }
 },
 "nbformat": 4,
 "nbformat_minor": 5
}
