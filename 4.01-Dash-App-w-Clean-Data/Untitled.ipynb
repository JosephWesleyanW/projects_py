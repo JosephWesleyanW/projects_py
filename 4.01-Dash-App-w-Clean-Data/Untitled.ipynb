{
 "cells": [
  {
   "cell_type": "code",
   "execution_count": 19,
   "id": "40ec0df7",
   "metadata": {},
   "outputs": [],
   "source": [
    "import pandas as pd\n",
    "import numpy as np\n",
    "import psycopg2\n",
    "import os\n",
    "import matplotlib.pyplot as plt\n",
    "import seaborn as sns\n",
    "import warnings\n",
    "warnings.filterwarnings('ignore')\n"
   ]
  },
  {
   "cell_type": "code",
   "execution_count": 20,
   "id": "fdd13b13",
   "metadata": {},
   "outputs": [],
   "source": [
    "#os.getcwd()"
   ]
  },
  {
   "cell_type": "code",
   "execution_count": 21,
   "id": "a662bedd",
   "metadata": {},
   "outputs": [
    {
     "data": {
      "text/plain": [
       "['.ipynb_checkpoints', 'london-clean.csv', 'Untitled.ipynb']"
      ]
     },
     "execution_count": 21,
     "metadata": {},
     "output_type": "execute_result"
    }
   ],
   "source": [
    "os.listdir()"
   ]
  },
  {
   "cell_type": "code",
   "execution_count": 22,
   "id": "849f58db",
   "metadata": {},
   "outputs": [],
   "source": [
    "df = pd.read_csv(\"london-clean.csv\")"
   ]
  },
  {
   "cell_type": "code",
   "execution_count": 23,
   "id": "f9214337",
   "metadata": {},
   "outputs": [
    {
     "data": {
      "text/html": [
       "<div>\n",
       "<style scoped>\n",
       "    .dataframe tbody tr th:only-of-type {\n",
       "        vertical-align: middle;\n",
       "    }\n",
       "\n",
       "    .dataframe tbody tr th {\n",
       "        vertical-align: top;\n",
       "    }\n",
       "\n",
       "    .dataframe thead th {\n",
       "        text-align: right;\n",
       "    }\n",
       "</style>\n",
       "<table border=\"1\" class=\"dataframe\">\n",
       "  <thead>\n",
       "    <tr style=\"text-align: right;\">\n",
       "      <th></th>\n",
       "      <th>id</th>\n",
       "      <th>downo</th>\n",
       "      <th>daytype</th>\n",
       "      <th>SubSystem</th>\n",
       "      <th>StartStn</th>\n",
       "      <th>EndStn</th>\n",
       "      <th>EntTime</th>\n",
       "      <th>ExTime</th>\n",
       "      <th>Zones</th>\n",
       "      <th>JourneyType</th>\n",
       "      <th>DailyCapping</th>\n",
       "      <th>FullFare</th>\n",
       "      <th>DiscountFare</th>\n",
       "      <th>FinalProduct</th>\n",
       "      <th>JourneyTime</th>\n",
       "      <th>Gender</th>\n",
       "      <th>Product line</th>\n",
       "      <th>Unit price</th>\n",
       "      <th>Quantity</th>\n",
       "      <th>Rating</th>\n",
       "    </tr>\n",
       "  </thead>\n",
       "  <tbody>\n",
       "    <tr>\n",
       "      <th>0</th>\n",
       "      <td>46006</td>\n",
       "      <td>6</td>\n",
       "      <td>Fri</td>\n",
       "      <td>LUL/NR</td>\n",
       "      <td>Walthamstow Central</td>\n",
       "      <td>Arsenal</td>\n",
       "      <td>1000</td>\n",
       "      <td>1017</td>\n",
       "      <td>-------</td>\n",
       "      <td>PPY</td>\n",
       "      <td>N</td>\n",
       "      <td>55</td>\n",
       "      <td>55</td>\n",
       "      <td>PAYG</td>\n",
       "      <td>17</td>\n",
       "      <td>Female</td>\n",
       "      <td>Health and beauty</td>\n",
       "      <td>74.69</td>\n",
       "      <td>7.0</td>\n",
       "      <td>9.1</td>\n",
       "    </tr>\n",
       "    <tr>\n",
       "      <th>1</th>\n",
       "      <td>46048</td>\n",
       "      <td>3</td>\n",
       "      <td>Tue</td>\n",
       "      <td>DLR</td>\n",
       "      <td>All Saints</td>\n",
       "      <td>Cutty Sark</td>\n",
       "      <td>1000</td>\n",
       "      <td>1020</td>\n",
       "      <td>-------</td>\n",
       "      <td>PPY</td>\n",
       "      <td>N</td>\n",
       "      <td>110</td>\n",
       "      <td>110</td>\n",
       "      <td>PAYG</td>\n",
       "      <td>20</td>\n",
       "      <td>Female</td>\n",
       "      <td>Electronic accessories</td>\n",
       "      <td>15.28</td>\n",
       "      <td>5.0</td>\n",
       "      <td>9.6</td>\n",
       "    </tr>\n",
       "    <tr>\n",
       "      <th>2</th>\n",
       "      <td>46060</td>\n",
       "      <td>5</td>\n",
       "      <td>Thu</td>\n",
       "      <td>LUL/DLR</td>\n",
       "      <td>Woolwich Arsenal DLR</td>\n",
       "      <td>Hounslow West</td>\n",
       "      <td>1000</td>\n",
       "      <td>1086</td>\n",
       "      <td>-------</td>\n",
       "      <td>PPY</td>\n",
       "      <td>N</td>\n",
       "      <td>370</td>\n",
       "      <td>370</td>\n",
       "      <td>PAYG</td>\n",
       "      <td>86</td>\n",
       "      <td>Male</td>\n",
       "      <td>Home and lifestyle</td>\n",
       "      <td>46.33</td>\n",
       "      <td>7.0</td>\n",
       "      <td>7.4</td>\n",
       "    </tr>\n",
       "  </tbody>\n",
       "</table>\n",
       "</div>"
      ],
      "text/plain": [
       "      id  downo daytype SubSystem              StartStn         EndStn  \\\n",
       "0  46006      6     Fri    LUL/NR   Walthamstow Central        Arsenal   \n",
       "1  46048      3     Tue       DLR            All Saints     Cutty Sark   \n",
       "2  46060      5     Thu   LUL/DLR  Woolwich Arsenal DLR  Hounslow West   \n",
       "\n",
       "   EntTime  ExTime    Zones JourneyType DailyCapping  FullFare  DiscountFare  \\\n",
       "0     1000    1017  -------         PPY            N        55            55   \n",
       "1     1000    1020  -------         PPY            N       110           110   \n",
       "2     1000    1086  -------         PPY            N       370           370   \n",
       "\n",
       "  FinalProduct  JourneyTime  Gender            Product line  Unit price  \\\n",
       "0         PAYG           17  Female       Health and beauty       74.69   \n",
       "1         PAYG           20  Female  Electronic accessories       15.28   \n",
       "2         PAYG           86    Male      Home and lifestyle       46.33   \n",
       "\n",
       "   Quantity  Rating  \n",
       "0       7.0     9.1  \n",
       "1       5.0     9.6  \n",
       "2       7.0     7.4  "
      ]
     },
     "execution_count": 23,
     "metadata": {},
     "output_type": "execute_result"
    }
   ],
   "source": [
    "df.head(3)"
   ]
  },
  {
   "cell_type": "code",
   "execution_count": 24,
   "id": "1244d98c",
   "metadata": {},
   "outputs": [
    {
     "data": {
      "text/plain": [
       "id                  0\n",
       "downo               0\n",
       "daytype             0\n",
       "SubSystem           0\n",
       "StartStn            0\n",
       "EndStn              0\n",
       "EntTime             0\n",
       "ExTime              0\n",
       "Zones               0\n",
       "JourneyType         0\n",
       "DailyCapping        0\n",
       "FullFare            0\n",
       "DiscountFare        0\n",
       "FinalProduct        0\n",
       "JourneyTime         0\n",
       "Gender              0\n",
       "Product line        0\n",
       "Unit price      82090\n",
       "Quantity        82090\n",
       "Rating          82090\n",
       "dtype: int64"
      ]
     },
     "execution_count": 24,
     "metadata": {},
     "output_type": "execute_result"
    }
   ],
   "source": [
    "df.isna().sum()"
   ]
  },
  {
   "cell_type": "code",
   "execution_count": 25,
   "id": "19e9ac22",
   "metadata": {},
   "outputs": [
    {
     "data": {
      "text/plain": [
       "id                  0\n",
       "downo               0\n",
       "daytype             0\n",
       "SubSystem           0\n",
       "StartStn            0\n",
       "EndStn              0\n",
       "EntTime             0\n",
       "ExTime              0\n",
       "Zones               0\n",
       "JourneyType         0\n",
       "DailyCapping        0\n",
       "FullFare            0\n",
       "DiscountFare        0\n",
       "FinalProduct        0\n",
       "JourneyTime         0\n",
       "Gender              0\n",
       "Product line        0\n",
       "Unit price      82090\n",
       "Quantity        82090\n",
       "Rating          82090\n",
       "dtype: int64"
      ]
     },
     "execution_count": 25,
     "metadata": {},
     "output_type": "execute_result"
    }
   ],
   "source": [
    "df.isnull().sum()"
   ]
  },
  {
   "cell_type": "code",
   "execution_count": 26,
   "id": "c1bdce9e",
   "metadata": {},
   "outputs": [
    {
     "data": {
      "text/html": [
       "<div>\n",
       "<style scoped>\n",
       "    .dataframe tbody tr th:only-of-type {\n",
       "        vertical-align: middle;\n",
       "    }\n",
       "\n",
       "    .dataframe tbody tr th {\n",
       "        vertical-align: top;\n",
       "    }\n",
       "\n",
       "    .dataframe thead th {\n",
       "        text-align: right;\n",
       "    }\n",
       "</style>\n",
       "<table border=\"1\" class=\"dataframe\">\n",
       "  <thead>\n",
       "    <tr style=\"text-align: right;\">\n",
       "      <th></th>\n",
       "      <th>id</th>\n",
       "      <th>downo</th>\n",
       "      <th>EntTime</th>\n",
       "      <th>ExTime</th>\n",
       "      <th>FullFare</th>\n",
       "      <th>DiscountFare</th>\n",
       "      <th>JourneyTime</th>\n",
       "      <th>Unit price</th>\n",
       "      <th>Quantity</th>\n",
       "      <th>Rating</th>\n",
       "    </tr>\n",
       "  </thead>\n",
       "  <tbody>\n",
       "    <tr>\n",
       "      <th>count</th>\n",
       "      <td>8.409000e+04</td>\n",
       "      <td>84090.000000</td>\n",
       "      <td>84090.000000</td>\n",
       "      <td>84090.000000</td>\n",
       "      <td>84090.000000</td>\n",
       "      <td>84090.000000</td>\n",
       "      <td>84090.000000</td>\n",
       "      <td>2000.000000</td>\n",
       "      <td>2000.000000</td>\n",
       "      <td>2000.00000</td>\n",
       "    </tr>\n",
       "    <tr>\n",
       "      <th>mean</th>\n",
       "      <td>1.228591e+06</td>\n",
       "      <td>4.127554</td>\n",
       "      <td>823.567594</td>\n",
       "      <td>855.780224</td>\n",
       "      <td>96.732489</td>\n",
       "      <td>95.015995</td>\n",
       "      <td>32.212629</td>\n",
       "      <td>55.672130</td>\n",
       "      <td>5.510000</td>\n",
       "      <td>6.97270</td>\n",
       "    </tr>\n",
       "    <tr>\n",
       "      <th>std</th>\n",
       "      <td>7.325235e+05</td>\n",
       "      <td>1.684775</td>\n",
       "      <td>283.859784</td>\n",
       "      <td>284.279214</td>\n",
       "      <td>109.118051</td>\n",
       "      <td>108.559210</td>\n",
       "      <td>17.237159</td>\n",
       "      <td>26.488001</td>\n",
       "      <td>2.922699</td>\n",
       "      <td>1.71815</td>\n",
       "    </tr>\n",
       "    <tr>\n",
       "      <th>min</th>\n",
       "      <td>4.600600e+04</td>\n",
       "      <td>1.000000</td>\n",
       "      <td>281.000000</td>\n",
       "      <td>309.000000</td>\n",
       "      <td>0.000000</td>\n",
       "      <td>0.000000</td>\n",
       "      <td>1.000000</td>\n",
       "      <td>10.080000</td>\n",
       "      <td>1.000000</td>\n",
       "      <td>4.00000</td>\n",
       "    </tr>\n",
       "    <tr>\n",
       "      <th>25%</th>\n",
       "      <td>5.627132e+05</td>\n",
       "      <td>3.000000</td>\n",
       "      <td>528.000000</td>\n",
       "      <td>559.000000</td>\n",
       "      <td>0.000000</td>\n",
       "      <td>0.000000</td>\n",
       "      <td>19.000000</td>\n",
       "      <td>32.875000</td>\n",
       "      <td>3.000000</td>\n",
       "      <td>5.50000</td>\n",
       "    </tr>\n",
       "    <tr>\n",
       "      <th>50%</th>\n",
       "      <td>1.214764e+06</td>\n",
       "      <td>4.000000</td>\n",
       "      <td>861.000000</td>\n",
       "      <td>893.000000</td>\n",
       "      <td>110.000000</td>\n",
       "      <td>110.000000</td>\n",
       "      <td>29.000000</td>\n",
       "      <td>55.230000</td>\n",
       "      <td>5.000000</td>\n",
       "      <td>7.00000</td>\n",
       "    </tr>\n",
       "    <tr>\n",
       "      <th>75%</th>\n",
       "      <td>1.791447e+06</td>\n",
       "      <td>6.000000</td>\n",
       "      <td>1063.000000</td>\n",
       "      <td>1096.000000</td>\n",
       "      <td>160.000000</td>\n",
       "      <td>160.000000</td>\n",
       "      <td>42.000000</td>\n",
       "      <td>77.935000</td>\n",
       "      <td>8.000000</td>\n",
       "      <td>8.50000</td>\n",
       "    </tr>\n",
       "    <tr>\n",
       "      <th>max</th>\n",
       "      <td>2.623405e+06</td>\n",
       "      <td>7.000000</td>\n",
       "      <td>1499.000000</td>\n",
       "      <td>1518.000000</td>\n",
       "      <td>700.000000</td>\n",
       "      <td>700.000000</td>\n",
       "      <td>162.000000</td>\n",
       "      <td>99.960000</td>\n",
       "      <td>10.000000</td>\n",
       "      <td>10.00000</td>\n",
       "    </tr>\n",
       "  </tbody>\n",
       "</table>\n",
       "</div>"
      ],
      "text/plain": [
       "                 id         downo       EntTime        ExTime      FullFare  \\\n",
       "count  8.409000e+04  84090.000000  84090.000000  84090.000000  84090.000000   \n",
       "mean   1.228591e+06      4.127554    823.567594    855.780224     96.732489   \n",
       "std    7.325235e+05      1.684775    283.859784    284.279214    109.118051   \n",
       "min    4.600600e+04      1.000000    281.000000    309.000000      0.000000   \n",
       "25%    5.627132e+05      3.000000    528.000000    559.000000      0.000000   \n",
       "50%    1.214764e+06      4.000000    861.000000    893.000000    110.000000   \n",
       "75%    1.791447e+06      6.000000   1063.000000   1096.000000    160.000000   \n",
       "max    2.623405e+06      7.000000   1499.000000   1518.000000    700.000000   \n",
       "\n",
       "       DiscountFare   JourneyTime   Unit price     Quantity      Rating  \n",
       "count  84090.000000  84090.000000  2000.000000  2000.000000  2000.00000  \n",
       "mean      95.015995     32.212629    55.672130     5.510000     6.97270  \n",
       "std      108.559210     17.237159    26.488001     2.922699     1.71815  \n",
       "min        0.000000      1.000000    10.080000     1.000000     4.00000  \n",
       "25%        0.000000     19.000000    32.875000     3.000000     5.50000  \n",
       "50%      110.000000     29.000000    55.230000     5.000000     7.00000  \n",
       "75%      160.000000     42.000000    77.935000     8.000000     8.50000  \n",
       "max      700.000000    162.000000    99.960000    10.000000    10.00000  "
      ]
     },
     "execution_count": 26,
     "metadata": {},
     "output_type": "execute_result"
    }
   ],
   "source": [
    "df.describe()"
   ]
  },
  {
   "cell_type": "code",
   "execution_count": 27,
   "id": "5a3945c9",
   "metadata": {},
   "outputs": [
    {
     "name": "stdout",
     "output_type": "stream",
     "text": [
      "id\n",
      "downo\n",
      "daytype\n",
      "SubSystem\n",
      "StartStn\n",
      "EndStn\n",
      "EntTime\n",
      "ExTime\n",
      "Zones\n",
      "JourneyType\n",
      "DailyCapping\n",
      "FullFare\n",
      "DiscountFare\n",
      "FinalProduct\n",
      "JourneyTime\n",
      "Gender\n",
      "Product line\n",
      "Unit price\n",
      "Quantity\n",
      "Rating\n"
     ]
    }
   ],
   "source": [
    "for i in df.columns:\n",
    "    print(i)"
   ]
  },
  {
   "cell_type": "code",
   "execution_count": 28,
   "id": "d49b998c",
   "metadata": {},
   "outputs": [
    {
     "data": {
      "text/plain": [
       "(84090, 20)"
      ]
     },
     "execution_count": 28,
     "metadata": {},
     "output_type": "execute_result"
    }
   ],
   "source": [
    "df.shape"
   ]
  },
  {
   "cell_type": "code",
   "execution_count": 29,
   "id": "28ec971c",
   "metadata": {},
   "outputs": [
    {
     "data": {
      "text/plain": [
       "<bound method DataFrame.info of             id  downo daytype   SubSystem              StartStn  \\\n",
       "0        46006      6     Fri      LUL/NR   Walthamstow Central   \n",
       "1        46048      3     Tue         DLR            All Saints   \n",
       "2        46060      5     Thu     LUL/DLR  Woolwich Arsenal DLR   \n",
       "3        46065      4     Wed      LUL/NR         Putney Bridge   \n",
       "4        46104      2     Mon         DLR          Shadwell DLR   \n",
       "...        ...    ...     ...         ...                   ...   \n",
       "84085  2623149      5     Thu      NR/LRC     Kentish Town West   \n",
       "84086  2623161      4     Wed     LUL/LRC          Aldgate East   \n",
       "84087  2623234      7     Sat  LUL/NR/LRC          Canning Town   \n",
       "84088  2623297      5     Thu      NR/LRC       Hackney Central   \n",
       "84089  2623405      4     Wed     LUL/DLR           Heron Quays   \n",
       "\n",
       "                     EndStn  EntTime  ExTime    Zones JourneyType  \\\n",
       "0                   Arsenal     1000    1017  -------         PPY   \n",
       "1                Cutty Sark     1000    1020  -------         PPY   \n",
       "2             Hounslow West     1000    1086  -------         PPY   \n",
       "3                 Wimbledon     1000    1016    Z0203         TKT   \n",
       "4      Woolwich Arsenal DLR     1000    1036    Z0204         TKT   \n",
       "...                     ...      ...     ...      ...         ...   \n",
       "84085           Camden Road      999    1018    Z0203         TKT   \n",
       "84086       Carpenders Park      999    1078  -------         PPY   \n",
       "84087     Dalston Kingsland      999    1041    Z0203         TKT   \n",
       "84088       Hampstead Heath      999    1030    Z0203         TKT   \n",
       "84089         Chancery Lane      999    1023  -------         PPY   \n",
       "\n",
       "      DailyCapping  FullFare  DiscountFare            FinalProduct  \\\n",
       "0                N        55            55                    PAYG   \n",
       "1                N       110           110                    PAYG   \n",
       "2                N       370           370                    PAYG   \n",
       "3                N         0             0  LUL Travelcard-1 Month   \n",
       "4                N         0             0  LUL Travelcard-1 Month   \n",
       "...            ...       ...           ...                     ...   \n",
       "84085            N         0             0    LUL Travelcard-7 Day   \n",
       "84086            N       470           470                    PAYG   \n",
       "84087            N         0             0  LUL Travelcard-1 Month   \n",
       "84088            N         0             0    LUL Travelcard-7 Day   \n",
       "84089            N       220           220                    PAYG   \n",
       "\n",
       "       JourneyTime  Gender            Product line  Unit price  Quantity  \\\n",
       "0               17  Female       Health and beauty       74.69       7.0   \n",
       "1               20  Female  Electronic accessories       15.28       5.0   \n",
       "2               86    Male      Home and lifestyle       46.33       7.0   \n",
       "3               16    Male       Health and beauty       58.22       8.0   \n",
       "4               36    Male       Sports and travel       86.31       7.0   \n",
       "...            ...     ...                     ...         ...       ...   \n",
       "84085           19  Female       Sports and travel         NaN       NaN   \n",
       "84086           79    Male     Fashion accessories         NaN       NaN   \n",
       "84087           42    Male      Food and beverages         NaN       NaN   \n",
       "84088           31  Female       Sports and travel         NaN       NaN   \n",
       "84089           24  Female       Health and beauty         NaN       NaN   \n",
       "\n",
       "       Rating  \n",
       "0         9.1  \n",
       "1         9.6  \n",
       "2         7.4  \n",
       "3         8.4  \n",
       "4         5.3  \n",
       "...       ...  \n",
       "84085     NaN  \n",
       "84086     NaN  \n",
       "84087     NaN  \n",
       "84088     NaN  \n",
       "84089     NaN  \n",
       "\n",
       "[84090 rows x 20 columns]>"
      ]
     },
     "execution_count": 29,
     "metadata": {},
     "output_type": "execute_result"
    }
   ],
   "source": [
    "df.info"
   ]
  },
  {
   "cell_type": "code",
   "execution_count": 30,
   "id": "f67a0dcc",
   "metadata": {},
   "outputs": [
    {
     "data": {
      "text/plain": [
       "id              84090\n",
       "downo               7\n",
       "daytype             7\n",
       "SubSystem          13\n",
       "StartStn          407\n",
       "EndStn            408\n",
       "EntTime          1193\n",
       "ExTime           1188\n",
       "Zones              23\n",
       "JourneyType         3\n",
       "DailyCapping        2\n",
       "FullFare           47\n",
       "DiscountFare       68\n",
       "FinalProduct       13\n",
       "JourneyTime       141\n",
       "Gender              2\n",
       "Product line        6\n",
       "Unit price        943\n",
       "Quantity           10\n",
       "Rating             61\n",
       "dtype: int64"
      ]
     },
     "execution_count": 30,
     "metadata": {},
     "output_type": "execute_result"
    }
   ],
   "source": [
    "df.nunique()"
   ]
  },
  {
   "cell_type": "code",
   "execution_count": 31,
   "id": "d3ec4df3",
   "metadata": {},
   "outputs": [
    {
     "data": {
      "text/plain": [
       "0"
      ]
     },
     "execution_count": 31,
     "metadata": {},
     "output_type": "execute_result"
    }
   ],
   "source": [
    "df.duplicated().sum()"
   ]
  },
  {
   "cell_type": "code",
   "execution_count": 35,
   "id": "d9f7e10d",
   "metadata": {
    "scrolled": true
   },
   "outputs": [
    {
     "data": {
      "text/plain": [
       "<seaborn.axisgrid.FacetGrid at 0xd853ca0>"
      ]
     },
     "execution_count": 35,
     "metadata": {},
     "output_type": "execute_result"
    },
    {
     "data": {
      "image/png": "[encoded data removed]",
      "text/plain": [
       "<Figure size 375x500 with 1 Axes>"
      ]
     },
     "metadata": {},
     "output_type": "display_data"
    }
   ],
   "source": [
    "sns.relplot(\n",
    "    data= df,\n",
    "    x='daytype', y='Quantity',\n",
    "    height=5, aspect=.75, facet_kws=dict(sharex=False),\n",
    "    kind='scatter',\n",
    "\n",
    ")\n"
   ]
  },
  {
   "cell_type": "code",
   "execution_count": null,
   "id": "c03dd02d",
   "metadata": {},
   "outputs": [],
   "source": []
  },
  {
   "cell_type": "code",
   "execution_count": null,
   "id": "e756f754",
   "metadata": {},
   "outputs": [],
   "source": []
  },
  {
   "cell_type": "code",
   "execution_count": null,
   "id": "1aa8d500",
   "metadata": {},
   "outputs": [],
   "source": []
  },
  {
   "cell_type": "code",
   "execution_count": null,
   "id": "4257e2ec",
   "metadata": {},
   "outputs": [],
   "source": []
  },
  {
   "cell_type": "code",
   "execution_count": null,
   "id": "0c48b0cf",
   "metadata": {},
   "outputs": [],
   "source": []
  },
  {
   "cell_type": "code",
   "execution_count": null,
   "id": "55aa4ae6",
   "metadata": {},
   "outputs": [],
   "source": []
  },
  {
   "cell_type": "code",
   "execution_count": null,
   "id": "1f9ad577",
   "metadata": {},
   "outputs": [],
   "source": []
  },
  {
   "cell_type": "code",
   "execution_count": null,
   "id": "dc289d7d",
   "metadata": {},
   "outputs": [],
   "source": []
  },
  {
   "cell_type": "code",
   "execution_count": null,
   "id": "ba722cab",
   "metadata": {},
   "outputs": [],
   "source": []
  },
  {
   "cell_type": "code",
   "execution_count": null,
   "id": "3c0a50ee",
   "metadata": {},
   "outputs": [],
   "source": []
  },
  {
   "cell_type": "code",
   "execution_count": null,
   "id": "26dcadff",
   "metadata": {},
   "outputs": [],
   "source": []
  },
  {
   "cell_type": "code",
   "execution_count": null,
   "id": "17adfab6",
   "metadata": {},
   "outputs": [],
   "source": []
  },
  {
   "cell_type": "code",
   "execution_count": null,
   "id": "096330b9",
   "metadata": {},
   "outputs": [],
   "source": []
  },
  {
   "cell_type": "code",
   "execution_count": null,
   "id": "fad4c7c9",
   "metadata": {},
   "outputs": [],
   "source": []
  },
  {
   "cell_type": "code",
   "execution_count": null,
   "id": "8b2e6799",
   "metadata": {},
   "outputs": [],
   "source": []
  },
  {
   "cell_type": "code",
   "execution_count": null,
   "id": "7a25b6c4",
   "metadata": {},
   "outputs": [],
   "source": []
  },
  {
   "cell_type": "code",
   "execution_count": null,
   "id": "0a796f3d",
   "metadata": {},
   "outputs": [],
   "source": []
  },
  {
   "cell_type": "code",
   "execution_count": null,
   "id": "d6fcd2fa",
   "metadata": {},
   "outputs": [],
   "source": []
  },
  {
   "cell_type": "code",
   "execution_count": null,
   "id": "a7d2d7a5",
   "metadata": {},
   "outputs": [],
   "source": []
  },
  {
   "cell_type": "code",
   "execution_count": null,
   "id": "0267c4bd",
   "metadata": {},
   "outputs": [],
   "source": []
  },
  {
   "cell_type": "code",
   "execution_count": null,
   "id": "78de6519",
   "metadata": {},
   "outputs": [],
   "source": []
  },
  {
   "cell_type": "code",
   "execution_count": null,
   "id": "c668837d",
   "metadata": {},
   "outputs": [],
   "source": []
  },
  {
   "cell_type": "code",
   "execution_count": null,
   "id": "861c2149",
   "metadata": {},
   "outputs": [],
   "source": []
  },
  {
   "cell_type": "code",
   "execution_count": null,
   "id": "d860510a",
   "metadata": {},
   "outputs": [],
   "source": []
  },
  {
   "cell_type": "code",
   "execution_count": null,
   "id": "6d897077",
   "metadata": {},
   "outputs": [],
   "source": []
  },
  {
   "cell_type": "code",
   "execution_count": null,
   "id": "6fbc10b8",
   "metadata": {},
   "outputs": [],
   "source": []
  },
  {
   "cell_type": "code",
   "execution_count": null,
   "id": "ab17f4ef",
   "metadata": {},
   "outputs": [],
   "source": []
  },
  {
   "cell_type": "code",
   "execution_count": null,
   "id": "2f104ea2",
   "metadata": {},
   "outputs": [],
   "source": []
  },
  {
   "cell_type": "code",
   "execution_count": null,
   "id": "2e69f105",
   "metadata": {},
   "outputs": [],
   "source": []
  },
  {
   "cell_type": "code",
   "execution_count": null,
   "id": "a38f59aa",
   "metadata": {},
   "outputs": [],
   "source": []
  },
  {
   "cell_type": "code",
   "execution_count": null,
   "id": "1f9fa930",
   "metadata": {},
   "outputs": [],
   "source": []
  },
  {
   "cell_type": "code",
   "execution_count": null,
   "id": "8ee5195e",
   "metadata": {},
   "outputs": [],
   "source": []
  }
 ],
 "metadata": {
  "kernelspec": {
   "display_name": "Python 3.10.4 ('enva')",
   "language": "python",
   "name": "python3"
  },
  "language_info": {
   "codemirror_mode": {
    "name": "ipython",
    "version": 3
   },
   "file_extension": ".py",
   "mimetype": "text/x-python",
   "name": "python",
   "nbconvert_exporter": "python",
   "pygments_lexer": "ipython3",
   "version": "3.10.4"
  },
  "vscode": {
   "interpreter": {
    "hash": "f6d8b8df4adecd785dcce04b5d113b04d77461a83e12a7e10a249f48e510ce9f"
   }
  }
 },
 "nbformat": 4,
 "nbformat_minor": 5
}
